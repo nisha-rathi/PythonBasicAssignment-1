{
 "cells": [
  {
   "cell_type": "code",
   "execution_count": null,
   "id": "9ef5d049",
   "metadata": {},
   "outputs": [],
   "source": [
    "Q1. In what modes should the PdfFileReader() and PdfFileWriter() File objects will be opened?\n",
    "Ans: import PyPDF2\n",
    "     PdfFileReader() -- it is used in 'rb' mode i.e. read binary\n",
    "     PdfFileWriter() -- it is used in 'wb' mode i.e. write binary\n",
    "     \n",
    "Q2. From a PdfFileReader object, how do you get a Page object for page 5?\n",
    "Ans:  use getpage(5) method.\n",
    "\n",
    "Q3. What PdfFileReader variable stores the number of pages in the PDF document?\n",
    "Ans: numPages stores the total no of pages in a pdf\n",
    "\n",
    "Q4. If a PdfFileReader object’s PDF is encrypted with the password swordfish, what must you do before you can obtain Page      objects from it?\n",
    "Ans: step 1 - load pdf [ PyPDF2.PdfFileReader(open('encrypted.pdf', 'rb')) ]\n",
    "     step 2 - check weather it is encrypted [ pdf.isEncrypted ]\n",
    "     step 3 - if encrypted use [ pdf.decrypt('swordfish') ]\n",
    "     \n",
    "Q5. What methods do you use to rotate a page?\n",
    "Ans: For anticlockwise: rotateCounterClockwise() \n",
    "     for clockwise    : rotateClockwise()\n",
    "     \n",
    "Q6. What is the difference between a Run object and a Paragraph object?\n",
    "Ans: Word document contain formatted text wrapped within three object levels:\n",
    "    lowest level: run objects.\n",
    "    middle level: paragraph objects.\n",
    "    highest level: document object.\n",
    "    Run Object is used for inline content, text, pictures and other items within a paragraph. \n",
    "\n",
    "Q7. How do you obtain a list of Paragraph objects for a Document object that’s stored in a variable named doc?\n",
    "Ans:from docx import Document\n",
    "    doc = Document(\"sample_file.docx\") # Path of the Docx file\n",
    "    print(doc.paragraphs) # Prints the list of Paragraph objects for a Document\n",
    "    for paragraph in doc.paragraphs:\n",
    "        print(paragraph.text) # Prints the text in the paragraph\n",
    "\n",
    "Q8. What type of object has bold, underline, italic, strike, and outline variables?\n",
    "Ans: Run object\n",
    "\n",
    "9. What is the difference between False, True, and None for the bold variable?\n",
    "Ans: True = on\n",
    "     False = off\n",
    "     none = not available\n",
    "     \n",
    "Q10. How do you create a Document object for a new Word document?\n",
    "Ans: doc = docx.Document()\n",
    "     doc.add_paragraph('world')\n",
    "     doc.save('hello.docx')\n",
    "     \n",
    "Q11. How do you add a paragraph with the text 'Hello, there!' to a Document object stored in a variable named doc?\n",
    "Ans: doc = docx.Document()\n",
    "     doc.add_paragraph('Hello,there!')\n",
    "     doc.save('hellothere.docx')\n",
    "     \n",
    "Q12. What integers represent the levels of headings available in Word documents?\n",
    "Ans: integers 1 to 4 are for various heading levels where 1 is main heading and 4 the lowest subheading."
   ]
  }
 ],
 "metadata": {
  "kernelspec": {
   "display_name": "Python 3 (ipykernel)",
   "language": "python",
   "name": "python3"
  },
  "language_info": {
   "codemirror_mode": {
    "name": "ipython",
    "version": 3
   },
   "file_extension": ".py",
   "mimetype": "text/x-python",
   "name": "python",
   "nbconvert_exporter": "python",
   "pygments_lexer": "ipython3",
   "version": "3.9.7"
  }
 },
 "nbformat": 4,
 "nbformat_minor": 5
}
