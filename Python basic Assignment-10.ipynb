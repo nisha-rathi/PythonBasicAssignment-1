{
 "cells": [
  {
   "cell_type": "code",
   "execution_count": null,
   "id": "78646535",
   "metadata": {},
   "outputs": [],
   "source": [
    "Q1. How do you distinguish between shutil.copy() and shutil.copytree()?\n",
    "Ans: shutil.copytree() will copy entire folder like branchers of trees (all files in it)\n",
    "    whereas shutil.copy() will copy only single folder\n",
    " \n",
    "Q2. What function is used to rename files??\n",
    "Ans: First import os module then use os.rename() to rename a file.\n",
    "\n",
    "Q3. What is the difference between the delete functions in the send2trash and shutil modules?\n",
    "Ans: send2trash sends file to recycle bin and shutil module deletes file permanantly.\n",
    "\n",
    "Q4.ZipFile objects have a close() method just like File objects’ close() method. What ZipFile method is equivalent to File objects’ open() method?\n",
    "Ans: to open or write to a zipfile we use 'w' as second argument similar to file objects open()\n",
    "import zipfile as zf\n",
    "a = zf.ZipFile(\"abc.zip\",'w')\n",
    "a.close()\n",
    "\n",
    "Q5. Create a programme that searches a folder tree for files with a certain file extension (such as .pdf or .jpg). Copy these files from whatever location they are in to a new folder.\n",
    "Ans: import os\n",
    "import shutil\n",
    "import os, shutil\n",
    "\n",
    "def search_and_copy(folder, extensions, destFolder):\n",
    "    folder = os.path.abspath(folder)\n",
    "    destFolder = os.path.abspath(destFolder)\n",
    "    print('searching --> {} for {} file'.format(folder,extensions))\n",
    "    for foldername, subfolders, filenames in os.walk(folder):\n",
    "        for filename in filenames:\n",
    "            name, extension = os.path.splitext(filename)\n",
    "            if extension in extensions:\n",
    "                fileAbsPath = foldername + os.path.sep + filename\n",
    "                print('Coping', fileAbsPath, 'to', destFolder)\n",
    "                shutil.copy(fileAbsPath, destFolder)\n",
    "\n",
    "extensions = ['.pdf','.jpg']\n",
    "folder = 'randomfolder'\n",
    "destFolder = 'destination'\n",
    "search_and_copy(folder, extensions, destFolder)\n",
    "searching --> E:\\data science\\ineuron full stack DS\\Assignments\\Python Basic Assignments\\randomfolder for ['.pdf', '.jpg'] file\n",
    "Coping E:\\data science\\ineuron full stack DS\\Assignments\\Python Basic Assignments\\randomfolder\\Rushikesh_M_Pokale.pdf to E:\\data science\\ineuron full stack DS\\Assignments\\Python Basic Assignments\\destination"
   ]
  }
 ],
 "metadata": {
  "kernelspec": {
   "display_name": "Python 3 (ipykernel)",
   "language": "python",
   "name": "python3"
  },
  "language_info": {
   "codemirror_mode": {
    "name": "ipython",
    "version": 3
   },
   "file_extension": ".py",
   "mimetype": "text/x-python",
   "name": "python",
   "nbconvert_exporter": "python",
   "pygments_lexer": "ipython3",
   "version": "3.9.7"
  }
 },
 "nbformat": 4,
 "nbformat_minor": 5
}
