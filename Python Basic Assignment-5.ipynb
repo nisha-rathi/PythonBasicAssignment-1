{
 "cells": [
  {
   "cell_type": "code",
   "execution_count": null,
   "id": "9fd8921a",
   "metadata": {},
   "outputs": [],
   "source": [
    "Q1. What does an empty dictionary's code look like?\n",
    "\n",
    "Ans: d ={} or d =dict()\n",
    "\n",
    "Q2. What is the value of a dictionary value with the key 'foo' and the value 42?\n",
    "Ans: 42\n",
    "\n",
    "Q3. What is the most significant distinction between a dictionary and a list?\n",
    "\n",
    "Ans: List is ordered and dictionary is unordered.\n",
    "     Accessing values of dictionary is through keys and in list it is through index\n",
    "Q4. What happens if you try to access spam['foo'] if spam is {'bar': 100}?\n",
    "Ans:    key error\n",
    "    \n",
    "Q5. If a dictionary is stored in spam, what is the difference between the expressions 'cat' in spam and 'cat' in spam.keys()?\n",
    "Ans: 'cat' in spam returns True or False depending on existance of key 'cat'.\n",
    "    'cat' in spam.keys()  also same.\n",
    "    \n",
    "Q6. If a dictionary is stored in spam, what is the difference between the expressions 'cat' in spam and 'cat' in spam.values()?\n",
    "Ans: 'cat' in spam returns True or False depending on existance of key 'cat'.\n",
    "    'cat' in spam.values() checks 'cat' in values.\n",
    "    \n",
    "Q7. What is a shortcut for the following code?\n",
    "     if 'color' not in spam:\n",
    "    spam['color'] = 'black'\n",
    "Ans: spam.setdefault(\"color1\", \"black\")\n",
    "    {'bar': 100, 'color': 'black', 'color1': 'green'}\n",
    "    \n",
    "Q8  How do you \"pretty print\" dictionary values using which module and function?\n",
    "Ans: import pprint\n",
    "     d ={1:\"knm\", 2:\"asd\"}\n",
    "    print(d)\n",
    "      pprint.pprint(d, width = -1)\n",
    "         {1: 'knm', 2: 'asd'}\n",
    "            {1: 'knm',2: 'asd'}"
   ]
  },
  {
   "cell_type": "code",
   "execution_count": null,
   "id": "9b800bd0",
   "metadata": {},
   "outputs": [],
   "source": []
  }
 ],
 "metadata": {
  "kernelspec": {
   "display_name": "Python 3 (ipykernel)",
   "language": "python",
   "name": "python3"
  },
  "language_info": {
   "codemirror_mode": {
    "name": "ipython",
    "version": 3
   },
   "file_extension": ".py",
   "mimetype": "text/x-python",
   "name": "python",
   "nbconvert_exporter": "python",
   "pygments_lexer": "ipython3",
   "version": "3.9.7"
  }
 },
 "nbformat": 4,
 "nbformat_minor": 5
}
