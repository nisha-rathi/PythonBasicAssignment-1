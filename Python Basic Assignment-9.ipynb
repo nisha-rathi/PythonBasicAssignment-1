{
 "cells": [
  {
   "cell_type": "code",
   "execution_count": null,
   "id": "482f24e6",
   "metadata": {},
   "outputs": [],
   "source": [
    "Q1. To what does a relative path refer?\n",
    "Ans: Relative paths are relative to the current working directory.\n",
    "\n",
    "Q2. What does an absolute path start with your operating system?\n",
    "Ans: Absolute paths start with the root folder, such as / or C:\\.\n",
    "\n",
    "Q3. What do the functions os.getcwd() and os.chdir() do?\n",
    "os.getcwd()  ---> get current working directory\n",
    "Ans: os.chdir(path of new directory) ----> change directory from current to specified one\n",
    "\n",
    "Q4. What are the . and .. folders?\n",
    "Ans: . refers to CURRENT directory\n",
    "     .. refers to PARENT directory\n",
    "     \n",
    "Q5. In C:\\bacon\\eggs\\spam.txt, which part is the dir name, and which part is the base name?\n",
    "Ans: import os\n",
    "    path = r'C:\\bacon\\eggs\\spam.txt'\n",
    "    print(os.path.dirname(path))\n",
    "    print(os.path.basename(path))\n",
    "    C:\\bacon\\eggs\n",
    "    spam.txt\n",
    "    \n",
    "Q6. What are the three “mode” arguments that can be passed to the open() function?\n",
    "Ans: r read mode\n",
    "    w write mode\n",
    "    a append mode\n",
    "    \n",
    "Q7. What happens if an existing file is opened in write mode?\n",
    "Ans: It overwrites if already present.\n",
    "\n",
    "Q8. How do you tell the difference between read() and readlines()?\n",
    "Ans: #In read() entire file is returned as a STRING and inernally it handles one character at a time. \n",
    "     #In readline() at a time one line is read. \n",
    "     #readlines() returns entire file as a LIST of all lines.\n",
    "\n",
    "    f =open(\"te.txt\", \"r\")\n",
    "   f.read() # output is STRING\n",
    "   'line1 \\nline2 \\nline3\\nhi\\nhow \\nr u'\n",
    "     f.seek(0)\n",
    "    f.readlines()   # output is LIST\n",
    "    ['line1 \\n', 'line2 \\n', 'line3\\n', 'hi\\n', 'how \\n', 'r u']\n",
    "    \n",
    "Q9. What data structure does a shelf value resemble?\n",
    "Ans: A shelf value resembles a dictionary value; it has keys and values, along with keys() and values() methods that work\n",
    "     similarly to the dictionary methods of the same names."
   ]
  }
 ],
 "metadata": {
  "kernelspec": {
   "display_name": "Python 3 (ipykernel)",
   "language": "python",
   "name": "python3"
  },
  "language_info": {
   "codemirror_mode": {
    "name": "ipython",
    "version": 3
   },
   "file_extension": ".py",
   "mimetype": "text/x-python",
   "name": "python",
   "nbconvert_exporter": "python",
   "pygments_lexer": "ipython3",
   "version": "3.9.7"
  }
 },
 "nbformat": 4,
 "nbformat_minor": 5
}
